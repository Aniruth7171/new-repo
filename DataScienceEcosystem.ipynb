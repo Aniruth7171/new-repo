{
 "cells": [
  {
   "cell_type": "markdown",
   "id": "dcb14d19-04bd-43b4-899f-475fe5519df2",
   "metadata": {},
   "source": [
    "# Data Science Tools and Ecosystem"
   ]
  },
  {
   "cell_type": "markdown",
   "id": "3701ed61-9e8d-4106-b2b2-3e3f8ecc389f",
   "metadata": {},
   "source": [
    "In this notebook, Data Science Tools and Ecosystem are summarized."
   ]
  },
  {
   "cell_type": "markdown",
   "id": "02fbf51e-9ba6-4e88-a1d5-0578e1e02ed4",
   "metadata": {},
   "source": [
    "Some of the popular languages that Data Scientists use are:\n",
    "1. Python\n",
    "2. R\n",
    "3. Julia"
   ]
  },
  {
   "cell_type": "markdown",
   "id": "64b8437e-1a3d-4064-8332-9833e414cdef",
   "metadata": {},
   "source": [
    "Some of the commonly used libraries used by Data Scientists include:\n",
    "1. matplotlib\n",
    "2. pandas\n",
    "3. numpy"
   ]
  },
  {
   "cell_type": "markdown",
   "id": "8cee7c1a-6a0d-4c1e-b6a6-4e076cbe095f",
   "metadata": {},
   "source": [
    "| Data Science Tools |\n",
    "| ------------------ |\n",
    "| Jupyter notebook |\n",
    "| Github |\n",
    "| RStudio |"
   ]
  },
  {
   "cell_type": "markdown",
   "id": "459265d8-e4b2-4aa9-ade6-9fbaec3fab7c",
   "metadata": {},
   "source": [
    "### Below are a few examples of evaluating arithmetic expressions in Python"
   ]
  },
  {
   "cell_type": "code",
   "execution_count": 1,
   "id": "d38074e5-6115-457f-af4e-19f24af1c292",
   "metadata": {
    "tags": []
   },
   "outputs": [
    {
     "data": {
      "text/plain": [
       "17"
      ]
     },
     "execution_count": 1,
     "metadata": {},
     "output_type": "execute_result"
    }
   ],
   "source": [
    "(3*4)+5\n",
    "# This a simple arithmetic expression to mutiply then add integers"
   ]
  },
  {
   "cell_type": "code",
   "execution_count": 5,
   "id": "4e10bf0c-9554-458d-9140-983d42320981",
   "metadata": {
    "tags": []
   },
   "outputs": [
    {
     "data": {
      "text/plain": [
       "3.3333333333333335"
      ]
     },
     "execution_count": 5,
     "metadata": {},
     "output_type": "execute_result"
    }
   ],
   "source": [
    "200/60\n",
    "# This will convert 200 minutes to hours by diving by 60"
   ]
  },
  {
   "cell_type": "markdown",
   "id": "98d2d174-a3da-4dac-8ff0-a724bc2c4d38",
   "metadata": {},
   "source": [
    "***Objectives:***\n",
    "- Introduction to R and Rstudio\n",
    "- Introduction to Github\n",
    "- Various languages used in data science\n",
    "- Introduction Jupyter notebooks\n",
    "- various libraries used in data science"
   ]
  },
  {
   "cell_type": "markdown",
   "id": "4bfa532e-175c-4a67-80f7-61311fac64bc",
   "metadata": {},
   "source": [
    "## Author\n",
    "Aniruth Rayachoti"
   ]
  },
  {
   "cell_type": "code",
   "execution_count": null,
   "id": "24f704ea-8f2b-4be6-925b-928f52210ca4",
   "metadata": {},
   "outputs": [],
   "source": []
  }
 ],
 "metadata": {
  "kernelspec": {
   "display_name": "Python",
   "language": "python",
   "name": "conda-env-python-py"
  },
  "language_info": {
   "codemirror_mode": {
    "name": "ipython",
    "version": 3
   },
   "file_extension": ".py",
   "mimetype": "text/x-python",
   "name": "python",
   "nbconvert_exporter": "python",
   "pygments_lexer": "ipython3",
   "version": "3.7.12"
  }
 },
 "nbformat": 4,
 "nbformat_minor": 5
}
